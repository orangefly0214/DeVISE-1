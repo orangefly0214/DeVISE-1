{
 "cells": [
  {
   "cell_type": "code",
   "execution_count": 2,
   "metadata": {},
   "outputs": [],
   "source": [
    "#reference   https://www.jianshu.com/p/52ee8c5739b6"
   ]
  },
  {
   "cell_type": "code",
   "execution_count": 3,
   "metadata": {},
   "outputs": [],
   "source": [
    "import gensim\n",
    "import os\n",
    "import time\n",
    "import multiprocessing"
   ]
  },
  {
   "cell_type": "code",
   "execution_count": 4,
   "metadata": {},
   "outputs": [],
   "source": [
    "sentences = [['first', 'sentence'], ['second', 'sentence']]\n",
    "# train word2vec on the two sentences\n",
    "model = gensim.models.Word2Vec(sentences, min_count=1)\n"
   ]
  },
  {
   "cell_type": "code",
   "execution_count": 5,
   "metadata": {},
   "outputs": [],
   "source": [
    "class MySentences(object):\n",
    "    def __init__(self, dirname):\n",
    "        self.dirname = dirname\n",
    " \n",
    "    def __iter__(self):\n",
    "        for fname in os.listdir(self.dirname):\n",
    "            for line in open(os.path.join(self.dirname, fname)):\n",
    "                yield line.split()\n",
    " \n",
    "sentences = MySentences('./data') # a memory-friendly iterator\n",
    "\n"
   ]
  },
  {
   "cell_type": "code",
   "execution_count": 17,
   "metadata": {},
   "outputs": [],
   "source": [
    "t0 = time.time()\n",
    "model = gensim.models.Word2Vec(sentences,workers = 8)\n",
    "t1 = time.time()"
   ]
  },
  {
   "cell_type": "code",
   "execution_count": 18,
   "metadata": {},
   "outputs": [
    {
     "name": "stdout",
     "output_type": "stream",
     "text": [
      "1009.8201296329498\n"
     ]
    }
   ],
   "source": [
    "print(t1 - t0)"
   ]
  },
  {
   "cell_type": "code",
   "execution_count": 8,
   "metadata": {},
   "outputs": [
    {
     "name": "stdout",
     "output_type": "stream",
     "text": [
      "(10, 100)\n"
     ]
    },
    {
     "name": "stderr",
     "output_type": "stream",
     "text": [
      "/usr/local/lib/python3.5/dist-packages/ipykernel_launcher.py:1: DeprecationWarning: Call to deprecated `__getitem__` (Method will be removed in 4.0.0, use self.wv.__getitem__() instead).\n",
      "  \"\"\"Entry point for launching an IPython kernel.\n"
     ]
    }
   ],
   "source": [
    "print((model[\"airplane\",\"automobile\",\"bird\",\"cat\",\"deer\",\"dog\",\"frog\",\"horse\",\"ship\",\"truck\"]).shape)"
   ]
  },
  {
   "cell_type": "code",
   "execution_count": 9,
   "metadata": {},
   "outputs": [
    {
     "name": "stdout",
     "output_type": "stream",
     "text": [
      "[-2.27118063e+00 -2.62926292e+00  1.59184635e+00  4.18340802e-01\n",
      "  3.61582339e-01  4.18642491e-01  1.67632416e-01  3.83122683e-01\n",
      " -1.30196893e+00  1.61375153e+00  5.19745588e-01  1.31949151e+00\n",
      " -1.52430177e+00 -4.01159190e-02 -1.37177125e-01  1.01757717e+00\n",
      "  1.18566477e+00  1.60769999e+00  1.59717417e+00  2.51603276e-01\n",
      " -1.72762573e+00 -7.05054641e-01  2.22238135e-02  1.15362799e+00\n",
      " -1.49395955e+00 -3.17327470e-01  5.94657838e-01 -2.53832889e+00\n",
      "  1.69279599e+00  2.20519587e-01 -1.55319166e+00  2.82341242e-01\n",
      "  1.41672313e+00 -1.28761053e+00 -2.14106274e+00 -1.12466669e+00\n",
      "  9.78628218e-01  1.67819127e-01  1.87182546e+00 -6.60520852e-01\n",
      "  9.55924511e-01 -2.50253248e+00 -5.14689311e-02  1.01264358e+00\n",
      " -4.57033277e-01 -9.81834624e-03 -1.51778338e-02  1.56431675e-01\n",
      " -8.17495584e-01  1.41383517e+00 -3.62758130e-01  7.76576474e-02\n",
      " -4.23145145e-01  8.76946747e-01  8.28185737e-01 -7.44215429e-01\n",
      " -1.28130269e+00 -1.39017129e+00  2.73608446e-01 -1.01689279e+00\n",
      "  2.25316834e+00 -1.58736110e+00 -8.26496780e-01  8.17695111e-02\n",
      " -1.34322143e+00 -8.14224362e-01  2.19656214e-01 -1.48306024e+00\n",
      " -3.70650220e+00 -1.09855926e+00  1.34892145e-03  4.33430463e-01\n",
      " -6.74953580e-01  1.13332880e+00  5.67047417e-01 -1.19944179e+00\n",
      " -6.41680181e-01  3.21678638e-01  1.31815732e+00 -6.66283607e-01\n",
      "  1.90178525e+00  1.21813071e+00 -6.95860267e-01 -1.61918855e+00\n",
      " -6.29349232e-01 -1.39776969e+00 -5.42399585e-01 -1.37111676e+00\n",
      "  9.50356275e-02 -2.27503967e+00 -3.64357203e-01  9.45018888e-01\n",
      "  8.59434828e-02  2.87508678e+00  2.12575960e+00 -1.92309475e+00\n",
      " -3.14840078e-01 -1.94222033e+00  1.01531334e-01  2.21403980e+00]\n"
     ]
    },
    {
     "name": "stderr",
     "output_type": "stream",
     "text": [
      "/usr/local/lib/python3.5/dist-packages/ipykernel_launcher.py:1: DeprecationWarning: Call to deprecated `__getitem__` (Method will be removed in 4.0.0, use self.wv.__getitem__() instead).\n",
      "  \"\"\"Entry point for launching an IPython kernel.\n"
     ]
    }
   ],
   "source": [
    "print(model[\"airplane\"])"
   ]
  },
  {
   "cell_type": "code",
   "execution_count": 10,
   "metadata": {},
   "outputs": [
    {
     "name": "stdout",
     "output_type": "stream",
     "text": [
      "847832\n"
     ]
    }
   ],
   "source": [
    "print(len(model.wv.vocab))\n"
   ]
  },
  {
   "cell_type": "code",
   "execution_count": 25,
   "metadata": {},
   "outputs": [],
   "source": [
    "#/home/tony/Desktop/NLP/gensim/my_trained_model/     I save my model here\n",
    "\n",
    "#save model!!!\n",
    "model.save(\"/tmp/mymodel\")\n",
    "\n",
    "\n"
   ]
  },
  {
   "cell_type": "code",
   "execution_count": 11,
   "metadata": {},
   "outputs": [],
   "source": [
    "#model = gensim.models.Word2Vec.load('./mymodel/mymodel')"
   ]
  },
  {
   "cell_type": "code",
   "execution_count": null,
   "metadata": {},
   "outputs": [],
   "source": []
  },
  {
   "cell_type": "code",
   "execution_count": 12,
   "metadata": {},
   "outputs": [],
   "source": [
    "#gmodel = gensim.models.KeyedVectors.load_word2vec_format('./google_model/GoogleNews-vectors-negative300.bin', binary=True)\n"
   ]
  },
  {
   "cell_type": "code",
   "execution_count": 13,
   "metadata": {},
   "outputs": [
    {
     "name": "stdout",
     "output_type": "stream",
     "text": [
      "(10, 300)\n"
     ]
    }
   ],
   "source": [
    "#print((gmodel[\"airplane\",\"automobile\",\"bird\",\"cat\",\"deer\",\"dog\",\"frog\",\"horse\",\"ship\",\"truck\"]).shape)"
   ]
  }
 ],
 "metadata": {
  "kernelspec": {
   "display_name": "Python 3",
   "language": "python",
   "name": "python3"
  },
  "language_info": {
   "codemirror_mode": {
    "name": "ipython",
    "version": 3
   },
   "file_extension": ".py",
   "mimetype": "text/x-python",
   "name": "python",
   "nbconvert_exporter": "python",
   "pygments_lexer": "ipython3",
   "version": "3.5.2"
  }
 },
 "nbformat": 4,
 "nbformat_minor": 2
}
